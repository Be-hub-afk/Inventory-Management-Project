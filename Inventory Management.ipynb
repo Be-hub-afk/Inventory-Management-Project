{
 "cells": [
  {
   "cell_type": "markdown",
   "metadata": {},
   "source": [
    "This initiative is to support the marketing team by offering resources and insights that improve their approaches and decision-making procedures. The system can provide useful insights on market trends, product performance, and consumer behaviour by utilising data analytics. The marketing team can improve their outreach efforts overall, target audiences more precisely, and fine-tune their campaigns thanks to this data-driven strategy.\n",
    "\n",
    "The creation of an advanced inventory system aims to automate and simplify the process of managing product inventories. Real-time inventory level monitoring will be provided by the system, which will also issue alarms when quantities drop below predetermined levels. In addition to preventing stockouts, this proactive warning system makes sure that the marketing team is aware of the availability of products. By integrating such a system, overall operational efficiency is improved and the danger of lost sales opportunities owing to inadequate inventory is reduced.\n"
   ]
  },
  {
   "cell_type": "code",
   "execution_count": 1,
   "metadata": {},
   "outputs": [],
   "source": [
    "import pandas as pd"
   ]
  },
  {
   "cell_type": "code",
   "execution_count": 2,
   "metadata": {},
   "outputs": [
    {
     "data": {
      "text/html": [
       "<div>\n",
       "<style scoped>\n",
       "    .dataframe tbody tr th:only-of-type {\n",
       "        vertical-align: middle;\n",
       "    }\n",
       "\n",
       "    .dataframe tbody tr th {\n",
       "        vertical-align: top;\n",
       "    }\n",
       "\n",
       "    .dataframe thead th {\n",
       "        text-align: right;\n",
       "    }\n",
       "</style>\n",
       "<table border=\"1\" class=\"dataframe\">\n",
       "  <thead>\n",
       "    <tr style=\"text-align: right;\">\n",
       "      <th></th>\n",
       "      <th>TransactionID</th>\n",
       "      <th>CustomerID</th>\n",
       "      <th>Date</th>\n",
       "      <th>ProductID</th>\n",
       "      <th>Price</th>\n",
       "      <th>Qty</th>\n",
       "      <th>TotalAmount</th>\n",
       "      <th>StoreID</th>\n",
       "    </tr>\n",
       "  </thead>\n",
       "  <tbody>\n",
       "    <tr>\n",
       "      <th>180</th>\n",
       "      <td>TR33225</td>\n",
       "      <td>286</td>\n",
       "      <td>13/01/2022</td>\n",
       "      <td>P1</td>\n",
       "      <td>8800</td>\n",
       "      <td>3</td>\n",
       "      <td>26400</td>\n",
       "      <td>4</td>\n",
       "    </tr>\n",
       "    <tr>\n",
       "      <th>4041</th>\n",
       "      <td>TR69752</td>\n",
       "      <td>42</td>\n",
       "      <td>20/10/2022</td>\n",
       "      <td>P4</td>\n",
       "      <td>12000</td>\n",
       "      <td>3</td>\n",
       "      <td>36000</td>\n",
       "      <td>7</td>\n",
       "    </tr>\n",
       "    <tr>\n",
       "      <th>2462</th>\n",
       "      <td>TR81972</td>\n",
       "      <td>347</td>\n",
       "      <td>25/06/2022</td>\n",
       "      <td>P3</td>\n",
       "      <td>7500</td>\n",
       "      <td>3</td>\n",
       "      <td>22500</td>\n",
       "      <td>5</td>\n",
       "    </tr>\n",
       "    <tr>\n",
       "      <th>1769</th>\n",
       "      <td>TR86133</td>\n",
       "      <td>77</td>\n",
       "      <td>07/05/2022</td>\n",
       "      <td>P10</td>\n",
       "      <td>15000</td>\n",
       "      <td>2</td>\n",
       "      <td>30000</td>\n",
       "      <td>6</td>\n",
       "    </tr>\n",
       "    <tr>\n",
       "      <th>495</th>\n",
       "      <td>TR96549</td>\n",
       "      <td>252</td>\n",
       "      <td>04/02/2022</td>\n",
       "      <td>P5</td>\n",
       "      <td>4200</td>\n",
       "      <td>4</td>\n",
       "      <td>16800</td>\n",
       "      <td>3</td>\n",
       "    </tr>\n",
       "  </tbody>\n",
       "</table>\n",
       "</div>"
      ],
      "text/plain": [
       "     TransactionID  CustomerID        Date ProductID  Price  Qty  TotalAmount  \\\n",
       "180        TR33225         286  13/01/2022        P1   8800    3        26400   \n",
       "4041       TR69752          42  20/10/2022        P4  12000    3        36000   \n",
       "2462       TR81972         347  25/06/2022        P3   7500    3        22500   \n",
       "1769       TR86133          77  07/05/2022       P10  15000    2        30000   \n",
       "495        TR96549         252  04/02/2022        P5   4200    4        16800   \n",
       "\n",
       "      StoreID  \n",
       "180         4  \n",
       "4041        7  \n",
       "2462        5  \n",
       "1769        6  \n",
       "495         3  "
      ]
     },
     "execution_count": 2,
     "metadata": {},
     "output_type": "execute_result"
    }
   ],
   "source": [
    "# have a look at the transaction data\n",
    "df = pd.read_csv('Data/transaction.csv' , delimiter=';')\n",
    "df.sample(5)"
   ]
  },
  {
   "cell_type": "code",
   "execution_count": 3,
   "metadata": {},
   "outputs": [
    {
     "data": {
      "text/html": [
       "<div>\n",
       "<style scoped>\n",
       "    .dataframe tbody tr th:only-of-type {\n",
       "        vertical-align: middle;\n",
       "    }\n",
       "\n",
       "    .dataframe tbody tr th {\n",
       "        vertical-align: top;\n",
       "    }\n",
       "\n",
       "    .dataframe thead th {\n",
       "        text-align: right;\n",
       "    }\n",
       "</style>\n",
       "<table border=\"1\" class=\"dataframe\">\n",
       "  <thead>\n",
       "    <tr style=\"text-align: right;\">\n",
       "      <th></th>\n",
       "      <th>StoreID</th>\n",
       "      <th>StoreName</th>\n",
       "      <th>GroupStore</th>\n",
       "      <th>Type</th>\n",
       "      <th>Latitude</th>\n",
       "      <th>Longitude</th>\n",
       "    </tr>\n",
       "  </thead>\n",
       "  <tbody>\n",
       "    <tr>\n",
       "      <th>13</th>\n",
       "      <td>14</td>\n",
       "      <td>Priangan</td>\n",
       "      <td>Priangan</td>\n",
       "      <td>Modern Trade</td>\n",
       "      <td>-5,45</td>\n",
       "      <td>105,26667</td>\n",
       "    </tr>\n",
       "    <tr>\n",
       "      <th>11</th>\n",
       "      <td>12</td>\n",
       "      <td>Prestasi Utama</td>\n",
       "      <td>Prestasi</td>\n",
       "      <td>General Trade</td>\n",
       "      <td>-2,990934</td>\n",
       "      <td>104,756554</td>\n",
       "    </tr>\n",
       "    <tr>\n",
       "      <th>9</th>\n",
       "      <td>10</td>\n",
       "      <td>Harapan Baru</td>\n",
       "      <td>Harapan Baru</td>\n",
       "      <td>General Trade</td>\n",
       "      <td>3,597031</td>\n",
       "      <td>98,678513</td>\n",
       "    </tr>\n",
       "    <tr>\n",
       "      <th>3</th>\n",
       "      <td>4</td>\n",
       "      <td>Gita Ginara</td>\n",
       "      <td>Gita</td>\n",
       "      <td>General Trade</td>\n",
       "      <td>-6,966667</td>\n",
       "      <td>110,416664</td>\n",
       "    </tr>\n",
       "    <tr>\n",
       "      <th>10</th>\n",
       "      <td>11</td>\n",
       "      <td>Sinar Harapan</td>\n",
       "      <td>Prestasi</td>\n",
       "      <td>General Trade</td>\n",
       "      <td>0,533505</td>\n",
       "      <td>101,447403</td>\n",
       "    </tr>\n",
       "  </tbody>\n",
       "</table>\n",
       "</div>"
      ],
      "text/plain": [
       "    StoreID       StoreName    GroupStore           Type   Latitude  \\\n",
       "13       14        Priangan      Priangan   Modern Trade      -5,45   \n",
       "11       12  Prestasi Utama      Prestasi  General Trade  -2,990934   \n",
       "9        10    Harapan Baru  Harapan Baru  General Trade   3,597031   \n",
       "3         4     Gita Ginara          Gita  General Trade  -6,966667   \n",
       "10       11   Sinar Harapan      Prestasi  General Trade   0,533505   \n",
       "\n",
       "     Longitude  \n",
       "13   105,26667  \n",
       "11  104,756554  \n",
       "9    98,678513  \n",
       "3   110,416664  \n",
       "10  101,447403  "
      ]
     },
     "execution_count": 3,
     "metadata": {},
     "output_type": "execute_result"
    }
   ],
   "source": [
    "# have a look at the the store data\n",
    "df1 = pd.read_csv('Data/Store.csv' , delimiter = ';')\n",
    "df1.sample(5)"
   ]
  },
  {
   "cell_type": "code",
   "execution_count": 4,
   "metadata": {},
   "outputs": [
    {
     "data": {
      "text/html": [
       "<div>\n",
       "<style scoped>\n",
       "    .dataframe tbody tr th:only-of-type {\n",
       "        vertical-align: middle;\n",
       "    }\n",
       "\n",
       "    .dataframe tbody tr th {\n",
       "        vertical-align: top;\n",
       "    }\n",
       "\n",
       "    .dataframe thead th {\n",
       "        text-align: right;\n",
       "    }\n",
       "</style>\n",
       "<table border=\"1\" class=\"dataframe\">\n",
       "  <thead>\n",
       "    <tr style=\"text-align: right;\">\n",
       "      <th></th>\n",
       "      <th>ProductID</th>\n",
       "      <th>Product Name</th>\n",
       "      <th>Price</th>\n",
       "    </tr>\n",
       "  </thead>\n",
       "  <tbody>\n",
       "    <tr>\n",
       "      <th>6</th>\n",
       "      <td>P7</td>\n",
       "      <td>Coffee Candy</td>\n",
       "      <td>9400</td>\n",
       "    </tr>\n",
       "    <tr>\n",
       "      <th>9</th>\n",
       "      <td>P10</td>\n",
       "      <td>Cheese Stick</td>\n",
       "      <td>15000</td>\n",
       "    </tr>\n",
       "    <tr>\n",
       "      <th>1</th>\n",
       "      <td>P2</td>\n",
       "      <td>Ginger Candy</td>\n",
       "      <td>3200</td>\n",
       "    </tr>\n",
       "    <tr>\n",
       "      <th>7</th>\n",
       "      <td>P8</td>\n",
       "      <td>Oat</td>\n",
       "      <td>16000</td>\n",
       "    </tr>\n",
       "    <tr>\n",
       "      <th>4</th>\n",
       "      <td>P5</td>\n",
       "      <td>Thai Tea</td>\n",
       "      <td>4200</td>\n",
       "    </tr>\n",
       "  </tbody>\n",
       "</table>\n",
       "</div>"
      ],
      "text/plain": [
       "  ProductID   Product Name  Price\n",
       "6        P7   Coffee Candy   9400\n",
       "9       P10   Cheese Stick  15000\n",
       "1        P2  Ginger Candy    3200\n",
       "7        P8            Oat  16000\n",
       "4        P5       Thai Tea   4200"
      ]
     },
     "execution_count": 4,
     "metadata": {},
     "output_type": "execute_result"
    }
   ],
   "source": [
    "# have a look at the product data\n",
    "df2 = pd.read_csv('Data/Product.csv' , delimiter = ';')\n",
    "df2.sample(5)"
   ]
  },
  {
   "cell_type": "code",
   "execution_count": 5,
   "metadata": {},
   "outputs": [],
   "source": [
    "\"\"\"joining the 3 data sets to create one data set \n",
    "with only te features that we are going to need for our modelling\"\"\"\n",
    "\n",
    "from pandasql import sqldf\n",
    "\n",
    "query = \"\"\"SELECT \n",
    "    t.TransactionID,\n",
    "    t.CustomerID,\n",
    "    t.Date,\n",
    "    t.ProductID,\n",
    "    t.Price,\n",
    "    t.Qty,\n",
    "    t.TotalAmount,\n",
    "    t.StoreID,\n",
    "    s.StoreName\n",
    "FROM \n",
    "    df t\n",
    "INNER JOIN \n",
    "    df1 s ON t.StoreID = s.StoreID\"\"\"\n",
    "pysqldf = sqldf(query)\n",
    "result = pysqldf\n",
    "result\n",
    "result_df = pd.DataFrame(result)"
   ]
  },
  {
   "cell_type": "code",
   "execution_count": 6,
   "metadata": {},
   "outputs": [
    {
     "data": {
      "text/html": [
       "<div>\n",
       "<style scoped>\n",
       "    .dataframe tbody tr th:only-of-type {\n",
       "        vertical-align: middle;\n",
       "    }\n",
       "\n",
       "    .dataframe tbody tr th {\n",
       "        vertical-align: top;\n",
       "    }\n",
       "\n",
       "    .dataframe thead th {\n",
       "        text-align: right;\n",
       "    }\n",
       "</style>\n",
       "<table border=\"1\" class=\"dataframe\">\n",
       "  <thead>\n",
       "    <tr style=\"text-align: right;\">\n",
       "      <th></th>\n",
       "      <th>TransactionID</th>\n",
       "      <th>CustomerID</th>\n",
       "      <th>Date</th>\n",
       "      <th>ProductID</th>\n",
       "      <th>Price</th>\n",
       "      <th>Qty</th>\n",
       "      <th>TotalAmount</th>\n",
       "      <th>StoreID</th>\n",
       "      <th>StoreName</th>\n",
       "    </tr>\n",
       "  </thead>\n",
       "  <tbody>\n",
       "    <tr>\n",
       "      <th>0</th>\n",
       "      <td>TR11369</td>\n",
       "      <td>328</td>\n",
       "      <td>01/01/2022</td>\n",
       "      <td>P3</td>\n",
       "      <td>7500</td>\n",
       "      <td>4</td>\n",
       "      <td>30000</td>\n",
       "      <td>12</td>\n",
       "      <td>Prestasi Utama</td>\n",
       "    </tr>\n",
       "    <tr>\n",
       "      <th>1</th>\n",
       "      <td>TR16356</td>\n",
       "      <td>165</td>\n",
       "      <td>01/01/2022</td>\n",
       "      <td>P9</td>\n",
       "      <td>10000</td>\n",
       "      <td>7</td>\n",
       "      <td>70000</td>\n",
       "      <td>1</td>\n",
       "      <td>Prima Tendean</td>\n",
       "    </tr>\n",
       "    <tr>\n",
       "      <th>2</th>\n",
       "      <td>TR1984</td>\n",
       "      <td>183</td>\n",
       "      <td>01/01/2022</td>\n",
       "      <td>P1</td>\n",
       "      <td>8800</td>\n",
       "      <td>4</td>\n",
       "      <td>35200</td>\n",
       "      <td>4</td>\n",
       "      <td>Gita Ginara</td>\n",
       "    </tr>\n",
       "    <tr>\n",
       "      <th>3</th>\n",
       "      <td>TR35256</td>\n",
       "      <td>160</td>\n",
       "      <td>01/01/2022</td>\n",
       "      <td>P1</td>\n",
       "      <td>8800</td>\n",
       "      <td>7</td>\n",
       "      <td>61600</td>\n",
       "      <td>4</td>\n",
       "      <td>Gita Ginara</td>\n",
       "    </tr>\n",
       "    <tr>\n",
       "      <th>4</th>\n",
       "      <td>TR41231</td>\n",
       "      <td>386</td>\n",
       "      <td>01/01/2022</td>\n",
       "      <td>P9</td>\n",
       "      <td>10000</td>\n",
       "      <td>1</td>\n",
       "      <td>10000</td>\n",
       "      <td>4</td>\n",
       "      <td>Gita Ginara</td>\n",
       "    </tr>\n",
       "  </tbody>\n",
       "</table>\n",
       "</div>"
      ],
      "text/plain": [
       "  TransactionID  CustomerID        Date ProductID  Price  Qty  TotalAmount  \\\n",
       "0       TR11369         328  01/01/2022        P3   7500    4        30000   \n",
       "1       TR16356         165  01/01/2022        P9  10000    7        70000   \n",
       "2        TR1984         183  01/01/2022        P1   8800    4        35200   \n",
       "3       TR35256         160  01/01/2022        P1   8800    7        61600   \n",
       "4       TR41231         386  01/01/2022        P9  10000    1        10000   \n",
       "\n",
       "   StoreID       StoreName  \n",
       "0       12  Prestasi Utama  \n",
       "1        1   Prima Tendean  \n",
       "2        4     Gita Ginara  \n",
       "3        4     Gita Ginara  \n",
       "4        4     Gita Ginara  "
      ]
     },
     "execution_count": 6,
     "metadata": {},
     "output_type": "execute_result"
    }
   ],
   "source": [
    "result_df.head()"
   ]
  },
  {
   "cell_type": "code",
   "execution_count": 7,
   "metadata": {},
   "outputs": [],
   "source": [
    "from pandasql import sqldf\n",
    "\n",
    "query1 = \"\"\"SELECT \n",
    "    t.TransactionID,\n",
    "    t.CustomerID,\n",
    "    t.Date,\n",
    "    t.ProductID,\n",
    "    t.Price,\n",
    "    t.Qty,\n",
    "    t.TotalAmount,\n",
    "    t.StoreID,\n",
    "    t.StoreName,\n",
    "    s. `Product Name`\n",
    "FROM \n",
    "    result_df t\n",
    "INNER JOIN \n",
    "    df2 s ON t.ProductID  = s.ProductID \"\"\"\n",
    "\n",
    "pysqldf = sqldf(query1)\n",
    "result2 = pysqldf\n",
    "result2\n",
    "df = pd.DataFrame(result2)"
   ]
  },
  {
   "cell_type": "code",
   "execution_count": 8,
   "metadata": {},
   "outputs": [
    {
     "data": {
      "text/html": [
       "<div>\n",
       "<style scoped>\n",
       "    .dataframe tbody tr th:only-of-type {\n",
       "        vertical-align: middle;\n",
       "    }\n",
       "\n",
       "    .dataframe tbody tr th {\n",
       "        vertical-align: top;\n",
       "    }\n",
       "\n",
       "    .dataframe thead th {\n",
       "        text-align: right;\n",
       "    }\n",
       "</style>\n",
       "<table border=\"1\" class=\"dataframe\">\n",
       "  <thead>\n",
       "    <tr style=\"text-align: right;\">\n",
       "      <th></th>\n",
       "      <th>TransactionID</th>\n",
       "      <th>CustomerID</th>\n",
       "      <th>Date</th>\n",
       "      <th>ProductID</th>\n",
       "      <th>Price</th>\n",
       "      <th>Qty</th>\n",
       "      <th>TotalAmount</th>\n",
       "      <th>StoreID</th>\n",
       "      <th>StoreName</th>\n",
       "      <th>Product Name</th>\n",
       "    </tr>\n",
       "  </thead>\n",
       "  <tbody>\n",
       "    <tr>\n",
       "      <th>2123</th>\n",
       "      <td>TR56344</td>\n",
       "      <td>66</td>\n",
       "      <td>02/06/2022</td>\n",
       "      <td>P4</td>\n",
       "      <td>12000</td>\n",
       "      <td>2</td>\n",
       "      <td>24000</td>\n",
       "      <td>4</td>\n",
       "      <td>Gita Ginara</td>\n",
       "      <td>Potato Chip</td>\n",
       "    </tr>\n",
       "    <tr>\n",
       "      <th>1743</th>\n",
       "      <td>TR90657</td>\n",
       "      <td>127</td>\n",
       "      <td>05/05/2022</td>\n",
       "      <td>P10</td>\n",
       "      <td>15000</td>\n",
       "      <td>5</td>\n",
       "      <td>75000</td>\n",
       "      <td>10</td>\n",
       "      <td>Harapan Baru</td>\n",
       "      <td>Cheese Stick</td>\n",
       "    </tr>\n",
       "    <tr>\n",
       "      <th>2132</th>\n",
       "      <td>TR21630</td>\n",
       "      <td>378</td>\n",
       "      <td>03/06/2022</td>\n",
       "      <td>P10</td>\n",
       "      <td>15000</td>\n",
       "      <td>3</td>\n",
       "      <td>45000</td>\n",
       "      <td>3</td>\n",
       "      <td>Prima Kota</td>\n",
       "      <td>Cheese Stick</td>\n",
       "    </tr>\n",
       "    <tr>\n",
       "      <th>3408</th>\n",
       "      <td>TR14437</td>\n",
       "      <td>29</td>\n",
       "      <td>05/09/2022</td>\n",
       "      <td>P2</td>\n",
       "      <td>3200</td>\n",
       "      <td>5</td>\n",
       "      <td>16000</td>\n",
       "      <td>9</td>\n",
       "      <td>Lingga</td>\n",
       "      <td>Ginger Candy</td>\n",
       "    </tr>\n",
       "    <tr>\n",
       "      <th>4503</th>\n",
       "      <td>TR8726</td>\n",
       "      <td>260</td>\n",
       "      <td>23/11/2022</td>\n",
       "      <td>P10</td>\n",
       "      <td>15000</td>\n",
       "      <td>5</td>\n",
       "      <td>75000</td>\n",
       "      <td>3</td>\n",
       "      <td>Prima Kota</td>\n",
       "      <td>Cheese Stick</td>\n",
       "    </tr>\n",
       "  </tbody>\n",
       "</table>\n",
       "</div>"
      ],
      "text/plain": [
       "     TransactionID  CustomerID        Date ProductID  Price  Qty  TotalAmount  \\\n",
       "2123       TR56344          66  02/06/2022        P4  12000    2        24000   \n",
       "1743       TR90657         127  05/05/2022       P10  15000    5        75000   \n",
       "2132       TR21630         378  03/06/2022       P10  15000    3        45000   \n",
       "3408       TR14437          29  05/09/2022        P2   3200    5        16000   \n",
       "4503        TR8726         260  23/11/2022       P10  15000    5        75000   \n",
       "\n",
       "      StoreID     StoreName   Product Name  \n",
       "2123        4   Gita Ginara    Potato Chip  \n",
       "1743       10  Harapan Baru   Cheese Stick  \n",
       "2132        3    Prima Kota   Cheese Stick  \n",
       "3408        9        Lingga  Ginger Candy   \n",
       "4503        3    Prima Kota   Cheese Stick  "
      ]
     },
     "execution_count": 8,
     "metadata": {},
     "output_type": "execute_result"
    }
   ],
   "source": [
    "df.sample(5)"
   ]
  },
  {
   "cell_type": "code",
   "execution_count": 9,
   "metadata": {},
   "outputs": [],
   "source": [
    "df['Date']= pd.to_datetime(df['Date'])"
   ]
  },
  {
   "cell_type": "code",
   "execution_count": 10,
   "metadata": {},
   "outputs": [],
   "source": [
    "# df= df.set_index('Date')\n"
   ]
  },
  {
   "cell_type": "code",
   "execution_count": 11,
   "metadata": {},
   "outputs": [
    {
     "data": {
      "text/html": [
       "<div>\n",
       "<style scoped>\n",
       "    .dataframe tbody tr th:only-of-type {\n",
       "        vertical-align: middle;\n",
       "    }\n",
       "\n",
       "    .dataframe tbody tr th {\n",
       "        vertical-align: top;\n",
       "    }\n",
       "\n",
       "    .dataframe thead th {\n",
       "        text-align: right;\n",
       "    }\n",
       "</style>\n",
       "<table border=\"1\" class=\"dataframe\">\n",
       "  <thead>\n",
       "    <tr style=\"text-align: right;\">\n",
       "      <th></th>\n",
       "      <th>TransactionID</th>\n",
       "      <th>CustomerID</th>\n",
       "      <th>Date</th>\n",
       "      <th>ProductID</th>\n",
       "      <th>Price</th>\n",
       "      <th>Qty</th>\n",
       "      <th>TotalAmount</th>\n",
       "      <th>StoreID</th>\n",
       "      <th>StoreName</th>\n",
       "      <th>Product Name</th>\n",
       "    </tr>\n",
       "  </thead>\n",
       "  <tbody>\n",
       "    <tr>\n",
       "      <th>5015</th>\n",
       "      <td>TR54423</td>\n",
       "      <td>243</td>\n",
       "      <td>2022-12-31</td>\n",
       "      <td>P10</td>\n",
       "      <td>15000</td>\n",
       "      <td>5</td>\n",
       "      <td>75000</td>\n",
       "      <td>3</td>\n",
       "      <td>Prima Kota</td>\n",
       "      <td>Cheese Stick</td>\n",
       "    </tr>\n",
       "    <tr>\n",
       "      <th>5016</th>\n",
       "      <td>TR5604</td>\n",
       "      <td>271</td>\n",
       "      <td>2022-12-31</td>\n",
       "      <td>P2</td>\n",
       "      <td>3200</td>\n",
       "      <td>4</td>\n",
       "      <td>12800</td>\n",
       "      <td>9</td>\n",
       "      <td>Lingga</td>\n",
       "      <td>Ginger Candy</td>\n",
       "    </tr>\n",
       "    <tr>\n",
       "      <th>5017</th>\n",
       "      <td>TR81224</td>\n",
       "      <td>52</td>\n",
       "      <td>2022-12-31</td>\n",
       "      <td>P7</td>\n",
       "      <td>9400</td>\n",
       "      <td>6</td>\n",
       "      <td>56400</td>\n",
       "      <td>9</td>\n",
       "      <td>Lingga</td>\n",
       "      <td>Coffee Candy</td>\n",
       "    </tr>\n",
       "    <tr>\n",
       "      <th>5018</th>\n",
       "      <td>TR85016</td>\n",
       "      <td>18</td>\n",
       "      <td>2022-12-31</td>\n",
       "      <td>P8</td>\n",
       "      <td>16000</td>\n",
       "      <td>3</td>\n",
       "      <td>48000</td>\n",
       "      <td>13</td>\n",
       "      <td>Buana</td>\n",
       "      <td>Oat</td>\n",
       "    </tr>\n",
       "    <tr>\n",
       "      <th>5019</th>\n",
       "      <td>TR85684</td>\n",
       "      <td>55</td>\n",
       "      <td>2022-12-31</td>\n",
       "      <td>P8</td>\n",
       "      <td>16000</td>\n",
       "      <td>1</td>\n",
       "      <td>16000</td>\n",
       "      <td>6</td>\n",
       "      <td>Lingga</td>\n",
       "      <td>Oat</td>\n",
       "    </tr>\n",
       "  </tbody>\n",
       "</table>\n",
       "</div>"
      ],
      "text/plain": [
       "     TransactionID  CustomerID       Date ProductID  Price  Qty  TotalAmount  \\\n",
       "5015       TR54423         243 2022-12-31       P10  15000    5        75000   \n",
       "5016        TR5604         271 2022-12-31        P2   3200    4        12800   \n",
       "5017       TR81224          52 2022-12-31        P7   9400    6        56400   \n",
       "5018       TR85016          18 2022-12-31        P8  16000    3        48000   \n",
       "5019       TR85684          55 2022-12-31        P8  16000    1        16000   \n",
       "\n",
       "      StoreID   StoreName   Product Name  \n",
       "5015        3  Prima Kota   Cheese Stick  \n",
       "5016        9      Lingga  Ginger Candy   \n",
       "5017        9      Lingga   Coffee Candy  \n",
       "5018       13       Buana            Oat  \n",
       "5019        6      Lingga            Oat  "
      ]
     },
     "execution_count": 11,
     "metadata": {},
     "output_type": "execute_result"
    }
   ],
   "source": [
    "df.tail()"
   ]
  },
  {
   "cell_type": "code",
   "execution_count": 12,
   "metadata": {},
   "outputs": [
    {
     "data": {
      "text/plain": [
       "TransactionID    0\n",
       "CustomerID       0\n",
       "Date             0\n",
       "ProductID        0\n",
       "Price            0\n",
       "Qty              0\n",
       "TotalAmount      0\n",
       "StoreID          0\n",
       "StoreName        0\n",
       "Product Name     0\n",
       "dtype: int64"
      ]
     },
     "execution_count": 12,
     "metadata": {},
     "output_type": "execute_result"
    }
   ],
   "source": [
    "# check for null values.\n",
    "\"\"\"There are no null values\"\"\"\n",
    "df.isna().sum()"
   ]
  },
  {
   "cell_type": "code",
   "execution_count": 13,
   "metadata": {},
   "outputs": [
    {
     "name": "stdout",
     "output_type": "stream",
     "text": [
      "<class 'pandas.core.frame.DataFrame'>\n",
      "RangeIndex: 5020 entries, 0 to 5019\n",
      "Data columns (total 10 columns):\n",
      " #   Column         Non-Null Count  Dtype         \n",
      "---  ------         --------------  -----         \n",
      " 0   TransactionID  5020 non-null   object        \n",
      " 1   CustomerID     5020 non-null   int64         \n",
      " 2   Date           5020 non-null   datetime64[ns]\n",
      " 3   ProductID      5020 non-null   object        \n",
      " 4   Price          5020 non-null   int64         \n",
      " 5   Qty            5020 non-null   int64         \n",
      " 6   TotalAmount    5020 non-null   int64         \n",
      " 7   StoreID        5020 non-null   int64         \n",
      " 8   StoreName      5020 non-null   object        \n",
      " 9   Product Name   5020 non-null   object        \n",
      "dtypes: datetime64[ns](1), int64(5), object(4)\n",
      "memory usage: 392.3+ KB\n"
     ]
    }
   ],
   "source": [
    "df.info()"
   ]
  },
  {
   "cell_type": "code",
   "execution_count": 14,
   "metadata": {},
   "outputs": [
    {
     "data": {
      "text/html": [
       "<div>\n",
       "<style scoped>\n",
       "    .dataframe tbody tr th:only-of-type {\n",
       "        vertical-align: middle;\n",
       "    }\n",
       "\n",
       "    .dataframe tbody tr th {\n",
       "        vertical-align: top;\n",
       "    }\n",
       "\n",
       "    .dataframe thead th {\n",
       "        text-align: right;\n",
       "    }\n",
       "</style>\n",
       "<table border=\"1\" class=\"dataframe\">\n",
       "  <thead>\n",
       "    <tr style=\"text-align: right;\">\n",
       "      <th></th>\n",
       "      <th>CustomerID</th>\n",
       "      <th>Price</th>\n",
       "      <th>Qty</th>\n",
       "      <th>TotalAmount</th>\n",
       "      <th>StoreID</th>\n",
       "    </tr>\n",
       "  </thead>\n",
       "  <tbody>\n",
       "    <tr>\n",
       "      <th>count</th>\n",
       "      <td>5020.000000</td>\n",
       "      <td>5020.000000</td>\n",
       "      <td>5020.000000</td>\n",
       "      <td>5020.000000</td>\n",
       "      <td>5020.000000</td>\n",
       "    </tr>\n",
       "    <tr>\n",
       "      <th>mean</th>\n",
       "      <td>221.263745</td>\n",
       "      <td>9684.800797</td>\n",
       "      <td>3.644622</td>\n",
       "      <td>32279.482072</td>\n",
       "      <td>7.489841</td>\n",
       "    </tr>\n",
       "    <tr>\n",
       "      <th>std</th>\n",
       "      <td>129.672955</td>\n",
       "      <td>4600.708780</td>\n",
       "      <td>1.855295</td>\n",
       "      <td>19675.462455</td>\n",
       "      <td>4.028502</td>\n",
       "    </tr>\n",
       "    <tr>\n",
       "      <th>min</th>\n",
       "      <td>1.000000</td>\n",
       "      <td>3200.000000</td>\n",
       "      <td>1.000000</td>\n",
       "      <td>7500.000000</td>\n",
       "      <td>1.000000</td>\n",
       "    </tr>\n",
       "    <tr>\n",
       "      <th>25%</th>\n",
       "      <td>108.000000</td>\n",
       "      <td>4200.000000</td>\n",
       "      <td>2.000000</td>\n",
       "      <td>16000.000000</td>\n",
       "      <td>4.000000</td>\n",
       "    </tr>\n",
       "    <tr>\n",
       "      <th>50%</th>\n",
       "      <td>221.000000</td>\n",
       "      <td>9400.000000</td>\n",
       "      <td>3.000000</td>\n",
       "      <td>28200.000000</td>\n",
       "      <td>7.000000</td>\n",
       "    </tr>\n",
       "    <tr>\n",
       "      <th>75%</th>\n",
       "      <td>332.000000</td>\n",
       "      <td>15000.000000</td>\n",
       "      <td>5.000000</td>\n",
       "      <td>47000.000000</td>\n",
       "      <td>11.000000</td>\n",
       "    </tr>\n",
       "    <tr>\n",
       "      <th>max</th>\n",
       "      <td>447.000000</td>\n",
       "      <td>18000.000000</td>\n",
       "      <td>10.000000</td>\n",
       "      <td>88000.000000</td>\n",
       "      <td>14.000000</td>\n",
       "    </tr>\n",
       "  </tbody>\n",
       "</table>\n",
       "</div>"
      ],
      "text/plain": [
       "        CustomerID         Price          Qty   TotalAmount      StoreID\n",
       "count  5020.000000   5020.000000  5020.000000   5020.000000  5020.000000\n",
       "mean    221.263745   9684.800797     3.644622  32279.482072     7.489841\n",
       "std     129.672955   4600.708780     1.855295  19675.462455     4.028502\n",
       "min       1.000000   3200.000000     1.000000   7500.000000     1.000000\n",
       "25%     108.000000   4200.000000     2.000000  16000.000000     4.000000\n",
       "50%     221.000000   9400.000000     3.000000  28200.000000     7.000000\n",
       "75%     332.000000  15000.000000     5.000000  47000.000000    11.000000\n",
       "max     447.000000  18000.000000    10.000000  88000.000000    14.000000"
      ]
     },
     "execution_count": 14,
     "metadata": {},
     "output_type": "execute_result"
    }
   ],
   "source": [
    "df.describe()"
   ]
  },
  {
   "cell_type": "markdown",
   "metadata": {},
   "source": [
    "##  EDA\n",
    "\n"
   ]
  },
  {
   "cell_type": "markdown",
   "metadata": {},
   "source": [
    "marketing department. help them identify popular products\n",
    "sale trends \n",
    "sale seasonality.\n",
    "stores with the best sales. "
   ]
  },
  {
   "cell_type": "markdown",
   "metadata": {},
   "source": [
    "### Modelling"
   ]
  },
  {
   "cell_type": "code",
   "execution_count": 15,
   "metadata": {},
   "outputs": [],
   "source": [
    "# check for stationarity of our data isong adfuller"
   ]
  },
  {
   "cell_type": "code",
   "execution_count": 16,
   "metadata": {},
   "outputs": [
    {
     "name": "stdout",
     "output_type": "stream",
     "text": [
      "Reject the null hypothesis.\n"
     ]
    }
   ],
   "source": [
    "from statsmodels.tsa.stattools import adfuller\n",
    "column_to_check = 'Qty'\n",
    "time_series = df[column_to_check]\n",
    "output = adfuller(time_series)\n",
    "p_value = output[1]\n",
    "\n",
    "if p_value < 0.05:\n",
    "    print('Reject the null hypothesis.')\n",
    "else:\n",
    "    print('Fail to reject the null hypothesis.')\n",
    "\n",
    "    \"\"\"null hypothesis is that the time series  is non-stationary).\"\"\""
   ]
  },
  {
   "cell_type": "code",
   "execution_count": 17,
   "metadata": {},
   "outputs": [
    {
     "name": "stdout",
     "output_type": "stream",
     "text": [
      "Safety Stock: 4.315740413985662\n"
     ]
    }
   ],
   "source": [
    "from scipy.stats import norm\n",
    "import numpy as np\n",
    "average_demand_rate = df['Qty'].mean()\n",
    "demand_std_dev = df['Qty'].std()\n",
    "\n",
    "# Set the desired service level \n",
    "service_level = 0.95  #ability to meet customer demand\n",
    "\n",
    "# Calculate the Z-score corresponding to the service level\n",
    "z_score = norm.ppf(service_level)\n",
    "\n",
    "# Assuming 'Lead Time' is in days\n",
    "lead_time = 2 #how long it takes for products to be restocked\n",
    "\n",
    "# Calculate safety stock\n",
    "safety_stock = z_score * demand_std_dev * np.sqrt(lead_time)\n",
    "\n",
    "print(f\"Safety Stock: {safety_stock}\")"
   ]
  },
  {
   "cell_type": "markdown",
   "metadata": {},
   "source": [
    "## Facebook Prophet"
   ]
  },
  {
   "cell_type": "code",
   "execution_count": 18,
   "metadata": {},
   "outputs": [],
   "source": [
    "from fbprophet import Prophet\n",
    "import matplotlib.pyplot as plt"
   ]
  },
  {
   "cell_type": "code",
   "execution_count": 19,
   "metadata": {},
   "outputs": [],
   "source": [
    "# rename the variables as is expected \n",
    "df.rename(columns={'Date': 'ds', 'Qty': 'y'}, inplace=True)"
   ]
  },
  {
   "cell_type": "code",
   "execution_count": 20,
   "metadata": {},
   "outputs": [],
   "source": [
    "# find aggregate daily product sales.\n",
    "df_aggregated = df.groupby('ds')['y'].sum()"
   ]
  },
  {
   "cell_type": "code",
   "execution_count": 21,
   "metadata": {},
   "outputs": [
    {
     "data": {
      "text/html": [
       "<div>\n",
       "<style scoped>\n",
       "    .dataframe tbody tr th:only-of-type {\n",
       "        vertical-align: middle;\n",
       "    }\n",
       "\n",
       "    .dataframe tbody tr th {\n",
       "        vertical-align: top;\n",
       "    }\n",
       "\n",
       "    .dataframe thead th {\n",
       "        text-align: right;\n",
       "    }\n",
       "</style>\n",
       "<table border=\"1\" class=\"dataframe\">\n",
       "  <thead>\n",
       "    <tr style=\"text-align: right;\">\n",
       "      <th></th>\n",
       "      <th>y</th>\n",
       "    </tr>\n",
       "    <tr>\n",
       "      <th>ds</th>\n",
       "      <th></th>\n",
       "    </tr>\n",
       "  </thead>\n",
       "  <tbody>\n",
       "    <tr>\n",
       "      <th>2022-01-01</th>\n",
       "      <td>49</td>\n",
       "    </tr>\n",
       "    <tr>\n",
       "      <th>2022-01-02</th>\n",
       "      <td>50</td>\n",
       "    </tr>\n",
       "    <tr>\n",
       "      <th>2022-01-03</th>\n",
       "      <td>76</td>\n",
       "    </tr>\n",
       "    <tr>\n",
       "      <th>2022-01-04</th>\n",
       "      <td>98</td>\n",
       "    </tr>\n",
       "    <tr>\n",
       "      <th>2022-01-05</th>\n",
       "      <td>67</td>\n",
       "    </tr>\n",
       "    <tr>\n",
       "      <th>2022-01-06</th>\n",
       "      <td>67</td>\n",
       "    </tr>\n",
       "  </tbody>\n",
       "</table>\n",
       "</div>"
      ],
      "text/plain": [
       "             y\n",
       "ds            \n",
       "2022-01-01  49\n",
       "2022-01-02  50\n",
       "2022-01-03  76\n",
       "2022-01-04  98\n",
       "2022-01-05  67\n",
       "2022-01-06  67"
      ]
     },
     "execution_count": 21,
     "metadata": {},
     "output_type": "execute_result"
    }
   ],
   "source": [
    "# change it to a data frame from a series\n",
    "df_aggregated = pd.DataFrame(df_aggregated)\n",
    "df_aggregated.head(6)"
   ]
  },
  {
   "cell_type": "code",
   "execution_count": 22,
   "metadata": {},
   "outputs": [],
   "source": [
    "# reset the indext\n",
    "df_aggregated.reset_index(inplace=True)"
   ]
  },
  {
   "cell_type": "code",
   "execution_count": 23,
   "metadata": {},
   "outputs": [
    {
     "name": "stderr",
     "output_type": "stream",
     "text": [
      "INFO:fbprophet:Disabling yearly seasonality. Run prophet with yearly_seasonality=True to override this.\n",
      "INFO:fbprophet:Disabling daily seasonality. Run prophet with daily_seasonality=True to override this.\n"
     ]
    }
   ],
   "source": [
    "# instantiate the model\n",
    "model = Prophet() \n",
    "\n",
    "# fit our model\n",
    "model.fit(df_aggregated)\n",
    "\n",
    "# find the last day a sale was made in our dataset\n",
    "last_date = df_aggregated['ds'].max()"
   ]
  },
  {
   "cell_type": "markdown",
   "metadata": {},
   "source": [
    "make_future_dataframe method in the Prophet library does not have a start parameter. The correct way to create a future dataframe with a specified start date is to use the add_datepart function from the fastai library. Here's the corrected code:"
   ]
  },
  {
   "cell_type": "code",
   "execution_count": 55,
   "metadata": {},
   "outputs": [],
   "source": [
    "from fastai.tabular.all import add_datepart\n",
    "last_date = pd.to_datetime(df_aggregated['ds'].max())\n",
    "\n",
    "# Create the future dataframe starting from the day after the last date\n",
    "future = model.make_future_dataframe(periods=365, freq='D')"
   ]
  },
  {
   "cell_type": "code",
   "execution_count": 56,
   "metadata": {},
   "outputs": [],
   "source": [
    "future = future[future['ds'] > last_date]"
   ]
  },
  {
   "cell_type": "code",
   "execution_count": 57,
   "metadata": {},
   "outputs": [
    {
     "data": {
      "text/html": [
       "<div>\n",
       "<style scoped>\n",
       "    .dataframe tbody tr th:only-of-type {\n",
       "        vertical-align: middle;\n",
       "    }\n",
       "\n",
       "    .dataframe tbody tr th {\n",
       "        vertical-align: top;\n",
       "    }\n",
       "\n",
       "    .dataframe thead th {\n",
       "        text-align: right;\n",
       "    }\n",
       "</style>\n",
       "<table border=\"1\" class=\"dataframe\">\n",
       "  <thead>\n",
       "    <tr style=\"text-align: right;\">\n",
       "      <th></th>\n",
       "      <th>ds</th>\n",
       "      <th>yhat</th>\n",
       "      <th>yhat_lower</th>\n",
       "      <th>yhat_upper</th>\n",
       "    </tr>\n",
       "  </thead>\n",
       "  <tbody>\n",
       "    <tr>\n",
       "      <th>360</th>\n",
       "      <td>2023-12-27</td>\n",
       "      <td>42.0</td>\n",
       "      <td>20.0</td>\n",
       "      <td>63.0</td>\n",
       "    </tr>\n",
       "    <tr>\n",
       "      <th>361</th>\n",
       "      <td>2023-12-28</td>\n",
       "      <td>42.0</td>\n",
       "      <td>21.0</td>\n",
       "      <td>63.0</td>\n",
       "    </tr>\n",
       "    <tr>\n",
       "      <th>362</th>\n",
       "      <td>2023-12-29</td>\n",
       "      <td>37.0</td>\n",
       "      <td>18.0</td>\n",
       "      <td>58.0</td>\n",
       "    </tr>\n",
       "    <tr>\n",
       "      <th>363</th>\n",
       "      <td>2023-12-30</td>\n",
       "      <td>40.0</td>\n",
       "      <td>18.0</td>\n",
       "      <td>60.0</td>\n",
       "    </tr>\n",
       "    <tr>\n",
       "      <th>364</th>\n",
       "      <td>2023-12-31</td>\n",
       "      <td>41.0</td>\n",
       "      <td>20.0</td>\n",
       "      <td>64.0</td>\n",
       "    </tr>\n",
       "  </tbody>\n",
       "</table>\n",
       "</div>"
      ],
      "text/plain": [
       "            ds  yhat  yhat_lower  yhat_upper\n",
       "360 2023-12-27  42.0        20.0        63.0\n",
       "361 2023-12-28  42.0        21.0        63.0\n",
       "362 2023-12-29  37.0        18.0        58.0\n",
       "363 2023-12-30  40.0        18.0        60.0\n",
       "364 2023-12-31  41.0        20.0        64.0"
      ]
     },
     "execution_count": 57,
     "metadata": {},
     "output_type": "execute_result"
    }
   ],
   "source": [
    "# Python\n",
    "\n",
    "\"\"\"The predict method will assign each row in future a predicted value which it names yhat. \n",
    "If you pass in historical dates, it will provide an in-sample fit.\n",
    " The forecast object here is a new dataframe that includes a column yhat with the forecast,\n",
    " as well as columns for components and uncertainty intervals.\"\"\"\n",
    "# yhat is the he predictedquantity ordered for the corresponding date. \n",
    "# yhat_lower. true value will not go beyind this point\n",
    "# yhat_upper true value will not exceed this point. meaning there wont be more than 5 orders made on that day basing\n",
    "# our prediction on the data we have.\n",
    "\n",
    "\n",
    "forecast = model.predict(future)\n",
    "forecast['yhat'] = round(forecast['yhat'], 0)\n",
    "forecast['yhat_lower'] = round(forecast['yhat_lower'], 0)\n",
    "forecast['yhat_upper'] = round(forecast['yhat_upper'], 0)\n",
    "forecast[['ds', 'yhat', 'yhat_lower', 'yhat_upper']].tail()"
   ]
  },
  {
   "cell_type": "code",
   "execution_count": 58,
   "metadata": {},
   "outputs": [
    {
     "data": {
      "text/plain": [
       "(365, 16)"
      ]
     },
     "execution_count": 58,
     "metadata": {},
     "output_type": "execute_result"
    }
   ],
   "source": [
    "forecast.shape"
   ]
  },
  {
   "cell_type": "code",
   "execution_count": 59,
   "metadata": {},
   "outputs": [
    {
     "data": {
      "image/png": "[encoded data removed]",
      "text/plain": [
       "<Figure size 648x432 with 2 Axes>"
      ]
     },
     "metadata": {},
     "output_type": "display_data"
    }
   ],
   "source": [
    "fig2 = model.plot_components(forecast)"
   ]
  },
  {
   "cell_type": "code",
   "execution_count": 60,
   "metadata": {},
   "outputs": [],
   "source": [
    "y_true = df_aggregated['y'].values\n",
    "y_pred = forecast['yhat'].values"
   ]
  },
  {
   "cell_type": "code",
   "execution_count": 61,
   "metadata": {},
   "outputs": [
    {
     "data": {
      "text/plain": [
       "(13.745205479452055, 321.0383561643836, 17.91754325136076)"
      ]
     },
     "execution_count": 61,
     "metadata": {},
     "output_type": "execute_result"
    }
   ],
   "source": [
    "from sklearn.metrics import mean_absolute_error, mean_squared_error\n",
    "\n",
    "mae = mean_absolute_error(y_true, y_pred)\n",
    "mse = mean_squared_error(y_true, y_pred)\n",
    "rmse = np.sqrt(mse)\n",
    "\n",
    "mae, mse, rmse"
   ]
  },
  {
   "cell_type": "markdown",
   "metadata": {},
   "source": [
    "In this case, the MAE, MSE, and RMSE values are all relatively high, which suggests that the model is not performing very well."
   ]
  },
  {
   "cell_type": "code",
   "execution_count": 65,
   "metadata": {},
   "outputs": [
    {
     "name": "stderr",
     "output_type": "stream",
     "text": [
      "c:\\Users\\Admin\\anaconda3\\envs\\learn-env\\lib\\site-packages\\statsmodels\\tsa\\base\\tsa_model.py:524: ValueWarning: No frequency information was provided, so inferred frequency D will be used.\n",
      "  warnings.warn('No frequency information was'\n",
      "c:\\Users\\Admin\\anaconda3\\envs\\learn-env\\lib\\site-packages\\statsmodels\\tsa\\base\\tsa_model.py:524: ValueWarning: No frequency information was provided, so inferred frequency D will be used.\n",
      "  warnings.warn('No frequency information was'\n",
      "c:\\Users\\Admin\\anaconda3\\envs\\learn-env\\lib\\site-packages\\statsmodels\\tsa\\base\\tsa_model.py:524: ValueWarning: No frequency information was provided, so inferred frequency D will be used.\n",
      "  warnings.warn('No frequency information was'\n"
     ]
    }
   ],
   "source": [
    "from statsmodels.tsa.arima.model import ARIMA\n",
    "ts = df_aggregated.set_index('ds')['y']\n",
    "\n",
    "# Fit an ARIMA model\n",
    "order = (1, 1, 1)  # replace p, d, q with appropriate values\n",
    "model_arima = ARIMA(ts, order=order)\n",
    "fit_arima = model_arima.fit()\n",
    "\n",
    "# Forecast future values\n",
    "forecast_steps = 365  # replace with the number of steps you want to forecast\n",
    "forecast_arima = fit_arima.get_forecast(steps=forecast_steps)\n",
    "\n",
    "# Get the forecast values and confidence intervals\n",
    "forecast_values = forecast_arima.predicted_mean\n",
    "forecast_conf_int = forecast_arima.conf_int()"
   ]
  },
  {
   "cell_type": "code",
   "execution_count": 67,
   "metadata": {},
   "outputs": [
    {
     "data": {
      "text/html": [
       "<div>\n",
       "<style scoped>\n",
       "    .dataframe tbody tr th:only-of-type {\n",
       "        vertical-align: middle;\n",
       "    }\n",
       "\n",
       "    .dataframe tbody tr th {\n",
       "        vertical-align: top;\n",
       "    }\n",
       "\n",
       "    .dataframe thead th {\n",
       "        text-align: right;\n",
       "    }\n",
       "</style>\n",
       "<table border=\"1\" class=\"dataframe\">\n",
       "  <thead>\n",
       "    <tr style=\"text-align: right;\">\n",
       "      <th></th>\n",
       "      <th>lower y</th>\n",
       "      <th>upper y</th>\n",
       "    </tr>\n",
       "  </thead>\n",
       "  <tbody>\n",
       "    <tr>\n",
       "      <th>2023-01-01</th>\n",
       "      <td>15.356425</td>\n",
       "      <td>80.868437</td>\n",
       "    </tr>\n",
       "    <tr>\n",
       "      <th>2023-01-02</th>\n",
       "      <td>15.192028</td>\n",
       "      <td>80.704434</td>\n",
       "    </tr>\n",
       "    <tr>\n",
       "      <th>2023-01-03</th>\n",
       "      <td>15.189033</td>\n",
       "      <td>80.712281</td>\n",
       "    </tr>\n",
       "    <tr>\n",
       "      <th>2023-01-04</th>\n",
       "      <td>15.183705</td>\n",
       "      <td>80.717537</td>\n",
       "    </tr>\n",
       "    <tr>\n",
       "      <th>2023-01-05</th>\n",
       "      <td>15.178413</td>\n",
       "      <td>80.722830</td>\n",
       "    </tr>\n",
       "    <tr>\n",
       "      <th>...</th>\n",
       "      <td>...</td>\n",
       "      <td>...</td>\n",
       "    </tr>\n",
       "    <tr>\n",
       "      <th>2023-12-27</th>\n",
       "      <td>13.345646</td>\n",
       "      <td>82.555597</td>\n",
       "    </tr>\n",
       "    <tr>\n",
       "      <th>2023-12-28</th>\n",
       "      <td>13.340634</td>\n",
       "      <td>82.560609</td>\n",
       "    </tr>\n",
       "    <tr>\n",
       "      <th>2023-12-29</th>\n",
       "      <td>13.335623</td>\n",
       "      <td>82.565620</td>\n",
       "    </tr>\n",
       "    <tr>\n",
       "      <th>2023-12-30</th>\n",
       "      <td>13.330613</td>\n",
       "      <td>82.570630</td>\n",
       "    </tr>\n",
       "    <tr>\n",
       "      <th>2023-12-31</th>\n",
       "      <td>13.325604</td>\n",
       "      <td>82.575639</td>\n",
       "    </tr>\n",
       "  </tbody>\n",
       "</table>\n",
       "<p>365 rows × 2 columns</p>\n",
       "</div>"
      ],
      "text/plain": [
       "              lower y    upper y\n",
       "2023-01-01  15.356425  80.868437\n",
       "2023-01-02  15.192028  80.704434\n",
       "2023-01-03  15.189033  80.712281\n",
       "2023-01-04  15.183705  80.717537\n",
       "2023-01-05  15.178413  80.722830\n",
       "...               ...        ...\n",
       "2023-12-27  13.345646  82.555597\n",
       "2023-12-28  13.340634  82.560609\n",
       "2023-12-29  13.335623  82.565620\n",
       "2023-12-30  13.330613  82.570630\n",
       "2023-12-31  13.325604  82.575639\n",
       "\n",
       "[365 rows x 2 columns]"
      ]
     },
     "execution_count": 67,
     "metadata": {},
     "output_type": "execute_result"
    }
   ],
   "source": [
    "forecast_conf_int"
   ]
  },
  {
   "cell_type": "code",
   "execution_count": 68,
   "metadata": {},
   "outputs": [
    {
     "data": {
      "text/html": [
       "<div>\n",
       "<style scoped>\n",
       "    .dataframe tbody tr th:only-of-type {\n",
       "        vertical-align: middle;\n",
       "    }\n",
       "\n",
       "    .dataframe tbody tr th {\n",
       "        vertical-align: top;\n",
       "    }\n",
       "\n",
       "    .dataframe thead th {\n",
       "        text-align: right;\n",
       "    }\n",
       "</style>\n",
       "<table border=\"1\" class=\"dataframe\">\n",
       "  <thead>\n",
       "    <tr style=\"text-align: right;\">\n",
       "      <th></th>\n",
       "      <th>predicted_mean</th>\n",
       "    </tr>\n",
       "  </thead>\n",
       "  <tbody>\n",
       "    <tr>\n",
       "      <th>2023-01-01</th>\n",
       "      <td>48.112431</td>\n",
       "    </tr>\n",
       "    <tr>\n",
       "      <th>2023-01-02</th>\n",
       "      <td>47.948231</td>\n",
       "    </tr>\n",
       "    <tr>\n",
       "      <th>2023-01-03</th>\n",
       "      <td>47.950657</td>\n",
       "    </tr>\n",
       "    <tr>\n",
       "      <th>2023-01-04</th>\n",
       "      <td>47.950621</td>\n",
       "    </tr>\n",
       "    <tr>\n",
       "      <th>2023-01-05</th>\n",
       "      <td>47.950622</td>\n",
       "    </tr>\n",
       "  </tbody>\n",
       "</table>\n",
       "</div>"
      ],
      "text/plain": [
       "            predicted_mean\n",
       "2023-01-01       48.112431\n",
       "2023-01-02       47.948231\n",
       "2023-01-03       47.950657\n",
       "2023-01-04       47.950621\n",
       "2023-01-05       47.950622"
      ]
     },
     "execution_count": 68,
     "metadata": {},
     "output_type": "execute_result"
    }
   ],
   "source": [
    "forecast_values = pd.DataFrame (forecast_values)\n",
    "forecast_values.head(5)"
   ]
  },
  {
   "cell_type": "code",
   "execution_count": 69,
   "metadata": {},
   "outputs": [],
   "source": [
    "actual_values = df_aggregated['y']"
   ]
  },
  {
   "cell_type": "code",
   "execution_count": 71,
   "metadata": {},
   "outputs": [
    {
     "data": {
      "text/plain": [
       "16.82278459470127"
      ]
     },
     "execution_count": 71,
     "metadata": {},
     "output_type": "execute_result"
    }
   ],
   "source": [
    "rmse = np.sqrt(mean_squared_error(actual_values, forecast_values))\n",
    "rmse"
   ]
  },
  {
   "cell_type": "code",
   "execution_count": 74,
   "metadata": {},
   "outputs": [],
   "source": [
    "import matplotlib.pyplot as plt\n",
    "from statsmodels.tsa.api import SARIMAX\n",
    "from sklearn.model_selection import train_test_split\n",
    "from sklearn.metrics import mean_squared_error"
   ]
  },
  {
   "cell_type": "code",
   "execution_count": 79,
   "metadata": {},
   "outputs": [
    {
     "name": "stdout",
     "output_type": "stream",
     "text": [
      "Root Mean Squared Error (RMSE): 1.7744797426282723\n"
     ]
    }
   ],
   "source": [
    "df['DayOfWeek'] = df['ds'].dt.dayofweek\n",
    "df['Month'] = df['ds'].dt.month\n",
    "df['Year'] = df['ds'].dt.year\n",
    "\n",
    "# Select relevant features\n",
    "features = ['DayOfWeek', 'Month', 'Year', 'Price', 'y', 'TotalAmount']\n",
    "\n",
    "# Split the data into training and testing sets\n",
    "train, test = train_test_split(df[features], test_size=0.2, shuffle=False)\n",
    "\n",
    "# Fit SARIMAX model\n",
    "order = (1, 1, 1)  # Replace with appropriate values based on model selection\n",
    "seasonal_order = (1, 1, 1, 12)  # Replace with appropriate values\n",
    "\n",
    "model = SARIMAX(train['y'], order=order, seasonal_order=seasonal_order)\n",
    "fit_model = model.fit()\n",
    "\n",
    "# Make predictions on the test set\n",
    "predictions = fit_model.get_forecast(steps=len(test))\n",
    "predicted_values = predictions.predicted_mean\n",
    "\n",
    "# Calculate RMSE\n",
    "rmse = mean_squared_error(test['y'], predicted_values, squared=False)\n",
    "print(f\"Root Mean Squared Error (RMSE): {rmse}\")"
   ]
  },
  {
   "cell_type": "code",
   "execution_count": 82,
   "metadata": {},
   "outputs": [
    {
     "name": "stdout",
     "output_type": "stream",
     "text": [
      "RMSE for Naive Forecast: 2.4836116228643905\n"
     ]
    }
   ],
   "source": [
    "train, test = train_test_split(df[features], test_size=0.2, shuffle=False)\n",
    "\n",
    "# Naive Forecast (predicting the last observed value)\n",
    "naive_forecast = test['y'].shift(1).fillna(method='bfill')\n",
    "\n",
    "# Calculate RMSE for the Naive Forecast\n",
    "rmse_naive = mean_squared_error(test['y'], naive_forecast, squared=False)\n",
    "print(f\"RMSE for Naive Forecast: {rmse_naive}\")\n"
   ]
  },
  {
   "cell_type": "code",
   "execution_count": 83,
   "metadata": {},
   "outputs": [
    {
     "ename": "ValueError",
     "evalue": "The truth value of a Series is ambiguous. Use a.empty, a.bool(), a.item(), a.any() or a.all().",
     "output_type": "error",
     "traceback": [
      "\u001b[1;31m---------------------------------------------------------------------------\u001b[0m",
      "\u001b[1;31mValueError\u001b[0m                                Traceback (most recent call last)",
      "\u001b[1;32m<ipython-input-83-deb002419de6>\u001b[0m in \u001b[0;36m<module>\u001b[1;34m\u001b[0m\n\u001b[0;32m      5\u001b[0m \u001b[1;33m\u001b[0m\u001b[0m\n\u001b[0;32m      6\u001b[0m \u001b[1;31m# Check if available stock is below the alert threshold\u001b[0m\u001b[1;33m\u001b[0m\u001b[1;33m\u001b[0m\u001b[1;33m\u001b[0m\u001b[0m\n\u001b[1;32m----> 7\u001b[1;33m \u001b[1;32mif\u001b[0m \u001b[0mavailable_stock\u001b[0m \u001b[1;33m<\u001b[0m \u001b[0malert_threshold\u001b[0m\u001b[1;33m:\u001b[0m\u001b[1;33m\u001b[0m\u001b[1;33m\u001b[0m\u001b[0m\n\u001b[0m\u001b[0;32m      8\u001b[0m     \u001b[0mprint\u001b[0m\u001b[1;33m(\u001b[0m\u001b[1;34m\"ALERT: Stock running low! Consider restocking.\"\u001b[0m\u001b[1;33m)\u001b[0m\u001b[1;33m\u001b[0m\u001b[1;33m\u001b[0m\u001b[0m\n\u001b[0;32m      9\u001b[0m \u001b[1;32melse\u001b[0m\u001b[1;33m:\u001b[0m\u001b[1;33m\u001b[0m\u001b[1;33m\u001b[0m\u001b[0m\n",
      "\u001b[1;32mc:\\Users\\Admin\\anaconda3\\envs\\learn-env\\lib\\site-packages\\pandas\\core\\generic.py\u001b[0m in \u001b[0;36m__nonzero__\u001b[1;34m(self)\u001b[0m\n\u001b[0;32m   1327\u001b[0m \u001b[1;33m\u001b[0m\u001b[0m\n\u001b[0;32m   1328\u001b[0m     \u001b[1;32mdef\u001b[0m \u001b[0m__nonzero__\u001b[0m\u001b[1;33m(\u001b[0m\u001b[0mself\u001b[0m\u001b[1;33m)\u001b[0m\u001b[1;33m:\u001b[0m\u001b[1;33m\u001b[0m\u001b[1;33m\u001b[0m\u001b[0m\n\u001b[1;32m-> 1329\u001b[1;33m         raise ValueError(\n\u001b[0m\u001b[0;32m   1330\u001b[0m             \u001b[1;34mf\"The truth value of a {type(self).__name__} is ambiguous. \"\u001b[0m\u001b[1;33m\u001b[0m\u001b[1;33m\u001b[0m\u001b[0m\n\u001b[0;32m   1331\u001b[0m             \u001b[1;34m\"Use a.empty, a.bool(), a.item(), a.any() or a.all().\"\u001b[0m\u001b[1;33m\u001b[0m\u001b[1;33m\u001b[0m\u001b[0m\n",
      "\u001b[1;31mValueError\u001b[0m: The truth value of a Series is ambiguous. Use a.empty, a.bool(), a.item(), a.any() or a.all()."
     ]
    }
   ],
   "source": [
    "alert_threshold = 0.1 * safety_stock\n",
    "\n",
    "# Calculate available stock\n",
    "available_stock = predicted_values - safety_stock\n",
    "\n",
    "# Check if available stock is below the alert threshold\n",
    "if available_stock < alert_threshold:\n",
    "    print(\"ALERT: Stock running low! Consider restocking.\")\n",
    "else:\n",
    "    print(\"Stock level is satisfactory.\")"
   ]
  },
  {
   "cell_type": "code",
   "execution_count": 80,
   "metadata": {},
   "outputs": [
    {
     "data": {
      "image/png": "[encoded data removed]",
      "text/plain": [
       "<Figure size 864x432 with 1 Axes>"
      ]
     },
     "metadata": {
      "needs_background": "light"
     },
     "output_type": "display_data"
    }
   ],
   "source": [
    "plt.figure(figsize=(12, 6))\n",
    "plt.plot(train.index, train['y'], label='Train')\n",
    "plt.plot(test.index, test['y'], label='Test')\n",
    "plt.plot(test.index, predicted_values, label='Predicted', color='red')\n",
    "plt.title('Time Series Forecasting with SARIMAX')\n",
    "plt.xlabel('Date')\n",
    "plt.ylabel('Quantity')\n",
    "plt.legend()\n",
    "plt.show()"
   ]
  },
  {
   "cell_type": "code",
   "execution_count": 86,
   "metadata": {},
   "outputs": [
    {
     "name": "stdout",
     "output_type": "stream",
     "text": [
      "Stock level is satisfactory.\n"
     ]
    }
   ],
   "source": [
    "# Function to calculate safety stock\n",
    "def calculate_safety_stock(predicted_quantity, demand_std_dev, lead_time, service_level):\n",
    "    z_score = norm.ppf(service_level)\n",
    "    safety_stock = z_score * demand_std_dev * np.sqrt(lead_time)\n",
    "    return safety_stock\n",
    "\n",
    "\n",
    "# Function to check and generate alert\n",
    "def check_and_alert(predicted_quantity, safety_stock, alert_threshold):\n",
    "    available_stock = predicted_quantity - safety_stock\n",
    "    if available_stock < alert_threshold:\n",
    "        print(\"ALERT: Stock running low! Consider restocking.\")\n",
    "    else:\n",
    "        print(\"Stock level is satisfactory.\")\n",
    "\n",
    "def get_predicted_quantity(train, order, seasonal_order, steps=30):\n",
    "    model = SARIMAX(train, order=order, seasonal_order=seasonal_order)\n",
    "    fit_model = model.fit()\n",
    "    predictions = fit_model.get_forecast(steps=steps)\n",
    "    predicted_values = predictions.predicted_mean\n",
    "    return predicted_values\n",
    "\n",
    "def automate_alert_threshold(safety_stock, percentage_threshold=0.1):\n",
    "    return safety_stock * percentage_threshold\n",
    "order = (1, 1, 1)  # Replace with your actual order\n",
    "seasonal_order = (1, 1, 1, 12)  # Replace with your actual seasonal_order\n",
    "demand_std_dev = 10  # Replace with your actual value\n",
    "lead_time = 7  # Replace with your actual value\n",
    "service_level = 0.95  # Replace with your actual value\n",
    "\n",
    "np.random.seed(42)\n",
    "train_data = np.random.normal(loc=100, scale=10, size=300)\n",
    "\n",
    "# Get the most recent predicted quantity using SARIMA\n",
    "predicted_quantity = get_predicted_quantity(train_data, order, seasonal_order)\n",
    "\n",
    "# Calculate safety stock using retrieved parameters\n",
    "safety_stock = calculate_safety_stock(predicted_quantity[-1], demand_std_dev, lead_time, service_level)\n",
    "\n",
    "# Automate alert threshold based on a percentage of safety stock\n",
    "alert_threshold = automate_alert_threshold(safety_stock)\n",
    "\n",
    "# Check and generate alert using automated alert threshold\n",
    "check_and_alert(predicted_quantity[-1], safety_stock, alert_threshold)"
   ]
  },
  {
   "cell_type": "code",
   "execution_count": 85,
   "metadata": {},
   "outputs": [
    {
     "ename": "ValueError",
     "evalue": "could not convert string to float: ''",
     "output_type": "error",
     "traceback": [
      "\u001b[1;31m---------------------------------------------------------------------------\u001b[0m",
      "\u001b[1;31mValueError\u001b[0m                                Traceback (most recent call last)",
      "\u001b[1;32m<ipython-input-85-93c09b58b5a1>\u001b[0m in \u001b[0;36m<module>\u001b[1;34m\u001b[0m\n\u001b[0;32m     20\u001b[0m \u001b[1;31m# User input for safety stock\u001b[0m\u001b[1;33m\u001b[0m\u001b[1;33m\u001b[0m\u001b[1;33m\u001b[0m\u001b[0m\n\u001b[0;32m     21\u001b[0m \u001b[0msafety_stock_input\u001b[0m \u001b[1;33m=\u001b[0m \u001b[0mfloat\u001b[0m\u001b[1;33m(\u001b[0m\u001b[0minput\u001b[0m\u001b[1;33m(\u001b[0m\u001b[1;34m\"Enter the safety stock: \"\u001b[0m\u001b[1;33m)\u001b[0m\u001b[1;33m)\u001b[0m\u001b[1;33m\u001b[0m\u001b[1;33m\u001b[0m\u001b[0m\n\u001b[1;32m---> 22\u001b[1;33m \u001b[0malert_threshold_input\u001b[0m \u001b[1;33m=\u001b[0m \u001b[0mfloat\u001b[0m\u001b[1;33m(\u001b[0m\u001b[0minput\u001b[0m\u001b[1;33m(\u001b[0m\u001b[1;34m\"Enter the alert threshold: \"\u001b[0m\u001b[1;33m)\u001b[0m\u001b[1;33m)\u001b[0m\u001b[1;33m\u001b[0m\u001b[1;33m\u001b[0m\u001b[0m\n\u001b[0m\u001b[0;32m     23\u001b[0m \u001b[1;33m\u001b[0m\u001b[0m\n\u001b[0;32m     24\u001b[0m \u001b[1;31m# Get the most recent predicted quantity\u001b[0m\u001b[1;33m\u001b[0m\u001b[1;33m\u001b[0m\u001b[1;33m\u001b[0m\u001b[0m\n",
      "\u001b[1;31mValueError\u001b[0m: could not convert string to float: ''"
     ]
    }
   ],
   "source": [
    "demand_std_dev = 10  # Replace with your actual value\n",
    "lead_time = 7  # Replace with your actual value\n",
    "service_level = 0.95  # Replace with your actual value\n",
    "\n",
    "def calculate_safety_stock(predicted_quantity, demand_std_dev, lead_time, service_level):\n",
    "    z_score = norm.ppf(service_level)\n",
    "    safety_stock = z_score * demand_std_dev * np.sqrt(lead_time)\n",
    "    return safety_stock\n",
    "\n",
    "# Function to check and generate alert\n",
    "def check_and_alert(predicted_quantity, safety_stock, alert_threshold):\n",
    "    available_stock = predicted_quantity - safety_stock\n",
    "    if available_stock < alert_threshold:\n",
    "        print(\"ALERT: Stock running low! Consider restocking.\")\n",
    "    else:\n",
    "        print(\"Stock level is satisfactory.\")\n",
    "\n",
    "# Function to get the most recent predicted quantity (replace this with your actual implementation)\n",
    "def get_predicted_quantity():\n",
    "    # Replace this with logic to fetch the predicted quantity from your forecasting model or database\n",
    "    # For now, let's assume a constant value for demonstration purposes\n",
    "    return 100\n",
    "\n",
    "# User input for safety stock\n",
    "safety_stock_input = float(input(\"Enter the safety stock: \"))\n",
    "alert_threshold_input = float(input(\"Enter the alert threshold: \"))\n",
    "\n",
    "# Get the most recent predicted quantity\n",
    "predicted_quantity = get_predicted_quantity()\n",
    "\n",
    "# Assuming you have these parameters available (replace with actual values)\n",
    "demand_std_dev = 10  # Replace with your actual value\n",
    "lead_time = 7  # Replace with your actual value\n",
    "service_level = 0.95  # Replace with your actual value\n",
    "\n",
    "# Calculate safety stock using retrieved parameters\n",
    "safety_stock = calculate_safety_stock(predicted_quantity, demand_std_dev, lead_time, service_level)\n",
    "\n",
    "# Check and generate alert using user input for safety stock and alert threshold\n",
    "check_and_alert(predicted_quantity, safety_stock_input, alert_threshold_input)"
   ]
  }
 ],
 "metadata": {
  "kernelspec": {
   "display_name": "learn-env",
   "language": "python",
   "name": "python3"
  },
  "language_info": {
   "codemirror_mode": {
    "name": "ipython",
    "version": 3
   },
   "file_extension": ".py",
   "mimetype": "text/x-python",
   "name": "python",
   "nbconvert_exporter": "python",
   "pygments_lexer": "ipython3",
   "version": "3.8.5"
  }
 },
 "nbformat": 4,
 "nbformat_minor": 2
}
